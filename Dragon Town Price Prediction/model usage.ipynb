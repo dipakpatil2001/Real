{
 "cells": [
  {
   "cell_type": "code",
   "execution_count": 1,
   "id": "e43fd07c-9b56-4560-a2a6-daa45330af6a",
   "metadata": {},
   "outputs": [],
   "source": [
    "from joblib import dump, load\n",
    "model = load(\"RealEstate.joblib\")\n",
    "features = np.array([[-0.40833261, -0.48421961,  1.5469924 , -0.27386128,  0.58892748,\n",
    "       -0.8268389 ,  0.96975828, -0.94918894, -0.65131258,  0.15645733,\n",
    "        1.29672341,  0.40481527,  0.61691861]])\n",
    "model.predict(features)"
   ]
  },
  {
   "cell_type": "code",
   "execution_count": 2,
   "id": "f40a33f8-b2ef-41cd-a5d0-89fd911b8fdd",
   "metadata": {},
   "outputs": [],
   "source": [
    "import numpy as np"
   ]
  },
  {
   "cell_type": "code",
   "execution_count": 19,
   "id": "90d99ce2-86f4-466e-bd0e-d95af1e550a3",
   "metadata": {},
   "outputs": [],
   "source": []
  },
  {
   "cell_type": "code",
   "execution_count": 20,
   "id": "480993d6-76e3-4f58-be22-2e610db35e9f",
   "metadata": {},
   "outputs": [
    {
     "data": {
      "text/plain": [
       "array([16.032])"
      ]
     },
     "execution_count": 20,
     "metadata": {},
     "output_type": "execute_result"
    }
   ],
   "source": []
  },
  {
   "cell_type": "code",
   "execution_count": null,
   "id": "caa94137-13a6-4c6a-96f6-4d11cb74b2b0",
   "metadata": {},
   "outputs": [],
   "source": []
  }
 ],
 "metadata": {
  "kernelspec": {
   "display_name": "Python 3 (ipykernel)",
   "language": "python",
   "name": "python3"
  },
  "language_info": {
   "codemirror_mode": {
    "name": "ipython",
    "version": 3
   },
   "file_extension": ".py",
   "mimetype": "text/x-python",
   "name": "python",
   "nbconvert_exporter": "python",
   "pygments_lexer": "ipython3",
   "version": "3.12.0"
  },
  "widgets": {
   "application/vnd.jupyter.widget-state+json": {
    "state": {},
    "version_major": 2,
    "version_minor": 0
   }
  }
 },
 "nbformat": 4,
 "nbformat_minor": 5
}
